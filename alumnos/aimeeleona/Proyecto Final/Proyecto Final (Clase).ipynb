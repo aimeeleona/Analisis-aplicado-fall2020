{
 "cells": [
  {
   "cell_type": "code",
   "execution_count": 76,
   "metadata": {},
   "outputs": [
    {
     "name": "stdout",
     "output_type": "stream",
     "text": [
      "1.19.2\n"
     ]
    }
   ],
   "source": [
    "# Proyecto Final Anpalisis Aplicado - Aimeé León\n",
    "\n",
    "import numpy as np\n",
    "import csv\n",
    "import random as rd\n",
    "\n",
    "print(np.__version__)"
   ]
  },
  {
   "cell_type": "code",
   "execution_count": 72,
   "metadata": {},
   "outputs": [],
   "source": [
    "with open('crime_data.csv') as file:\n",
    "    reader = csv.reader(file)\n"
   ]
  },
  {
   "cell_type": "code",
   "execution_count": 2,
   "metadata": {},
   "outputs": [],
   "source": [
    "# Función de Prueba de los Algoritmos (Rosenbrock)\n",
    "def Rosenbrock(x):\n",
    "    # Aquí suponemos que x ya es una matriz (vector) de nx1\n",
    "    return (1-x[0,0])**2 + 100*(x[1,0]-x[0,0]**2)**2"
   ]
  },
  {
   "cell_type": "code",
   "execution_count": 3,
   "metadata": {},
   "outputs": [],
   "source": [
    "def gradiente(func,xk):\n",
    "    # Código que calcula el gradiente de la función f en el punto xk\n",
    "        # Aquí estamos suponiendo que metemos un xk array y lo convertimos a matriz de nx1\n",
    "    cambio = .000001\n",
    "    n = len(xk)\n",
    "    grad = np.matrix(np.zeros((n,1)))\n",
    "    \n",
    "    for i in range(1,n+1):\n",
    "        aux = xk.copy()\n",
    "        aux[i-1,0] = aux[i-1,0] + cambio\n",
    "        grad[i-1,0] = round((func(aux) - func(xk))/cambio,2)\n",
    "    \n",
    "    return grad"
   ]
  },
  {
   "cell_type": "code",
   "execution_count": 4,
   "metadata": {},
   "outputs": [],
   "source": [
    "def hessiana(func,xk):\n",
    "    # Código que calcula la hessiana de la función f en el punto xk\n",
    "        # Aquí estamos suponiendo que metemos un xk matrix de nx1\n",
    "    cambio = .000001\n",
    "    n = len(xk)\n",
    "    hess = np.matrix(np.zeros((n,n)))\n",
    "    \n",
    "    for i in range(1,n+1):\n",
    "        for j in range(1,n+1):\n",
    "            if i==j:\n",
    "                aux1 = xk.copy()\n",
    "                aux2 = xk.copy()\n",
    "                aux1[i-1,0] = aux1[i-1,0] + cambio\n",
    "                aux2[i-1,0] = aux2[i-1,0] - cambio\n",
    "                hess[i-1,j-1] = round((func(aux1)-2*func(xk)+func(aux2))/cambio**2,2)\n",
    "            else:\n",
    "                aux1 = xk.copy()\n",
    "                aux2 = xk.copy()\n",
    "                aux3 = xk.copy()\n",
    "                \n",
    "                aux1[i-1,0] = aux1[i-1,0] + cambio\n",
    "                aux1[j-1,0] = aux1[j-1,0] + cambio\n",
    "                \n",
    "                aux2[j-1,0] = aux2[j-1,0] + cambio\n",
    "                \n",
    "                aux3[i-1,0] = aux3[i-1,0] + cambio\n",
    "                \n",
    "                hess[i-1,j-1] = round((func(aux1)-func(aux2)-func(aux3)+func(xk))/cambio**2,2)\n",
    "                \n",
    "    return hess"
   ]
  },
  {
   "cell_type": "code",
   "execution_count": 5,
   "metadata": {},
   "outputs": [],
   "source": [
    "# Algoritmo 3.1: Backtracking Line Search\n",
    "\n",
    "def BLS(func,xk):\n",
    "    a = 1\n",
    "    # Pues es la alpha que corresponde a la dirección de Newton\n",
    "    c = 10**(-4)\n",
    "    pk = -np.linalg.inv(hessiana(func,xk))*gradiente(func,xk)\n",
    "    while func(xk+a*pk) > (func(xk) + c*a*np.transpose(gradiente(func,xk))*pk):\n",
    "        a = .8*a\n",
    "    return a"
   ]
  },
  {
   "cell_type": "code",
   "execution_count": 6,
   "metadata": {},
   "outputs": [],
   "source": [
    "def posdef(func,xk):\n",
    "    eigen = np.linalg.eig(hessiana(func,xk))[0]\n",
    "    if all(eigen > 0):\n",
    "        r = 1 # cumple hessiana positiva definida\n",
    "    else:\n",
    "        r = 0 # no cumple hessiana positiva definida\n",
    "        \n",
    "    return r"
   ]
  },
  {
   "cell_type": "code",
   "execution_count": 7,
   "metadata": {},
   "outputs": [],
   "source": [
    "def menor_eigen(func,xk):\n",
    "    # Método que devuelve el menor de los eigenvalores de una matriz multiplicado por -1\n",
    "    eigen = np.linalg.eig(hessiana(func,xk))[0]\n",
    "    n = len(xk)\n",
    "    min = 0\n",
    "    for i in range(1,n+1):\n",
    "        if eigen[i-1] < min:\n",
    "            min = eigen[i-1]\n",
    "    min = -min\n",
    "    return min"
   ]
  },
  {
   "cell_type": "code",
   "execution_count": 8,
   "metadata": {},
   "outputs": [],
   "source": [
    "# Método que devuelve el factor que le sumaremos a la Hessiana para volverla positiva definida\n",
    "\n",
    "def factorCholesky(A,n):  \n",
    "    b = .0001\n",
    "    if np.min(np.diag(A))>0:\n",
    "        fact = 0\n",
    "    else:\n",
    "        fact = -np.min(np.diag(A)) + b\n",
    "    \n",
    "    for i in range(1,100):\n",
    "        eigen = np.linalg.eig(A + fact*np.identity(n))[0]\n",
    "        if all(eigen > 0):\n",
    "            r = 1\n",
    "        else:\n",
    "            r = 0\n",
    "\n",
    "        if r==0: # es decir, si aún no es positiva definida\n",
    "            fact = np.max([b,2*fact])\n",
    "    \n",
    "    return fact"
   ]
  },
  {
   "cell_type": "code",
   "execution_count": 52,
   "metadata": {},
   "outputs": [],
   "source": [
    "class Optimizacion:\n",
    "    \n",
    "    def __init__(self,func,xk):\n",
    "        self.func = func\n",
    "        self.xk = xk\n",
    "        \n",
    "    \n",
    "    def BFGS(self): # Broyden, Fletcher, Goldfarb, Shanno\n",
    "        func = self.func\n",
    "        xk = self.xk\n",
    "        n = len(xk)\n",
    "        e = .00001\n",
    "        Hk = np.linalg.inv(hessiana(func,xk))\n",
    "        while np.linalg.norm(gradiente(func,xk))>e:\n",
    "            pk = -Hk*gradiente(func,xk)  #dirección\n",
    "            xk1 = xk + BLS(func,xk)*pk\n",
    "            sk = xk1 - xk\n",
    "            yk = gradiente(func,xk1) - gradiente(func,xk)\n",
    "            rok = float(1/(np.transpose(yk)*sk))\n",
    "            Hk1 = (np.identity(n)-rok*sk*np.transpose(yk)) * Hk * (np.identity(n)-rok*yk*np.transpose(sk)) + rok*sk*np.transpose(sk)\n",
    "            xk = xk1\n",
    "            Hk = Hk1\n",
    "    \n",
    "        return xk\n",
    "        \n",
    "    \n",
    "    def LSNM(self): # Búsqueda Lineal de Newton con modificación a la Hessiana\n",
    "        func = self.func\n",
    "        xk = self.xk\n",
    "        n = len(xk)\n",
    "        Bk = hessiana(func,xk)\n",
    "        for k in range(1,100):\n",
    "            s = factorCholesky(Bk,n)\n",
    "            Bk = hessiana(func,xk) + s*np.identity(n)\n",
    "            pk = np.linalg.solve(Bk,-gradiente(func,xk)) \n",
    "            xk = xk + BLS(func,xk)*pk    \n",
    "            \n",
    "        return xk\n",
    "    \n",
    "    def AN(self): # Algoritmo de Newton\n",
    "        func = self.func\n",
    "        xk = self.xk\n",
    "        n = len(xk)\n",
    "        a = 1\n",
    "        for k in range(1,100):\n",
    "            Bk = hessiana(func,xk)\n",
    "            pk = np.linalg.solve(Bk,-gradiente(func,xk)) \n",
    "            xk = xk + a*pk    \n",
    "            \n",
    "        return xk\n",
    "        \n",
    "    def LS(self): # Búsqueda Lineal Base (Sin modificaciones a la Hessiana)\n",
    "        func = self.func\n",
    "        xk = self.xk\n",
    "        n = len(xk)\n",
    "        for k in range(1,100):\n",
    "            Bk = hessiana(func,xk)\n",
    "            pk = np.linalg.solve(Bk,-gradiente(func,xk)) \n",
    "            xk = xk + BLS(func,xk)*pk    \n",
    "            \n",
    "        return xk"
   ]
  },
  {
   "cell_type": "code",
   "execution_count": 53,
   "metadata": {},
   "outputs": [
    {
     "data": {
      "text/plain": [
       "matrix([[1.00112703],\n",
       "        [1.00225041]])"
      ]
     },
     "execution_count": 53,
     "metadata": {},
     "output_type": "execute_result"
    }
   ],
   "source": [
    "# Prueba con la función Rosenbrock\n",
    "\n",
    "xk = np.matrix([[1.5],[2.3]])\n",
    "func = Rosenbrock\n",
    "rosen = Optimizacion(func,xk)\n",
    "rosen.AN()"
   ]
  },
  {
   "cell_type": "code",
   "execution_count": 93,
   "metadata": {},
   "outputs": [],
   "source": [
    "# Definimos 5 cámaras aleatoriamente\n",
    "\n",
    "cam = np.matrix([[rd.uniform(19.25,19.58),rd.uniform(-99.3,-98.97)],[rd.uniform(19.25,19.58),rd.uniform(-99.3,-98.97)],[rd.uniform(19.25,19.58),rd.uniform(-99.3,-98.97)],[rd.uniform(19.25,19.58),rd.uniform(-99.3,-98.97)],[rd.uniform(19.25,19.58),rd.uniform(-99.3,-98.97)]])"
   ]
  },
  {
   "cell_type": "code",
   "execution_count": 94,
   "metadata": {},
   "outputs": [],
   "source": [
    "# Definimos la muestra aleatoria de 22 crímenes:\n",
    "crim = np.matrix([[19.33845612,-99.29333614],[19.28642,-99.13235],[19.30516202,-99.08730605],[19.47661,-99.08438],[19.30033471,-99.22449462\n",
    "],[19.31672032,-99.2626755],[19.496499,-99.08664023],[19.32926156,-99.21320602],[19.4495064,-99.05701426],[19.40462,-99.06965\n",
    "],[19.37071,-99.16509],[19.2982669,-99.0769868],[19.48795486,-99.11981028],[19.36703,-99.07046],[19.29136681,-99.05987888],[19.32045,-99.08419\n",
    "],[19.4977134,-99.09051181],[19.40737,-99.17669],[19.4469695,-99.16032595],[19.2784072,-99.17914144],[19.2805684,-99.197078],[19.37381101,-99.1699987]])"
   ]
  },
  {
   "cell_type": "code",
   "execution_count": 97,
   "metadata": {},
   "outputs": [],
   "source": [
    "# Prueba con el ejemplo de las cámaras\n",
    "\n",
    "# Función a optimizar:\n",
    "def camaras(cam,crim,i,j):\n",
    "    # Suponiendo i crímenes y j cámaras\n",
    "    sum = 0\n",
    "    for i in range(1,+1):\n",
    "        for j in range(1,j+1):\n",
    "            sum = sum + np.linalg.norm(cam[i,]-crim[j,])**2\n",
    "            if i != j:\n",
    "                sum = sum + 1/(np.linalg.norm(cam[i,]-cam[j,])**2)\n",
    "    return sum\n",
    "        "
   ]
  },
  {
   "cell_type": "code",
   "execution_count": 104,
   "metadata": {},
   "outputs": [],
   "source": [
    "# Aplicamos el mejor estimador, que es LSNM:\n",
    "xk = cam.copy()\n",
    "func = camaras"
   ]
  }
 ],
 "metadata": {
  "kernelspec": {
   "display_name": "Python 3",
   "language": "python",
   "name": "python3"
  },
  "language_info": {
   "codemirror_mode": {
    "name": "ipython",
    "version": 3
   },
   "file_extension": ".py",
   "mimetype": "text/x-python",
   "name": "python",
   "nbconvert_exporter": "python",
   "pygments_lexer": "ipython3",
   "version": "3.8.5"
  }
 },
 "nbformat": 4,
 "nbformat_minor": 4
}
