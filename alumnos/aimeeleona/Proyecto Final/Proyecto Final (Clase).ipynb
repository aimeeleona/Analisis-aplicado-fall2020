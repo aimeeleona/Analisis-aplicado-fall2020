{
 "cells": [
  {
   "cell_type": "code",
   "execution_count": 1,
   "metadata": {},
   "outputs": [
    {
     "name": "stdout",
     "output_type": "stream",
     "text": [
      "1.19.2\n"
     ]
    }
   ],
   "source": [
    "# Proyecto Final Anpalisis Aplicado - Aimeé León\n",
    "\n",
    "import numpy as np\n",
    "print(np.__version__)"
   ]
  },
  {
   "cell_type": "code",
   "execution_count": null,
   "metadata": {},
   "outputs": [],
   "source": [
    "# Función de Prueba de los Algoritmos (Rosenbrock)\n",
    "def Rosenbrock(x):\n",
    "    # Aquí suponemos que x ya es una matriz (vector) de nx1\n",
    "    return (1-x[0,0])**2 + 100*(x[1,0]-x[0,0]**2)**2"
   ]
  },
  {
   "cell_type": "code",
   "execution_count": null,
   "metadata": {},
   "outputs": [],
   "source": [
    "def gradiente(func,xk):\n",
    "    # Código que calcula el gradiente de la función f en el punto xk\n",
    "        # Aquí estamos suponiendo que metemos un xk array y lo convertimos a matriz de nx1\n",
    "    cambio = .000001\n",
    "    n = len(xk)\n",
    "    grad = np.matrix(np.zeros((n,1)))\n",
    "    \n",
    "    for i in range(1,n+1):\n",
    "        aux = xk.copy()\n",
    "        aux[i-1,0] = aux[i-1,0] + cambio\n",
    "        grad[i-1,0] = round((func(aux) - func(xk))/cambio,2)\n",
    "    \n",
    "    return grad"
   ]
  },
  {
   "cell_type": "code",
   "execution_count": null,
   "metadata": {},
   "outputs": [],
   "source": [
    "def hessiana(func,xk):\n",
    "    # Código que calcula la hessiana de la función f en el punto xk\n",
    "        # Aquí estamos suponiendo que metemos un xk matrix de nx1\n",
    "    cambio = .000001\n",
    "    n = len(xk)\n",
    "    hess = np.matrix(np.zeros((n,n)))\n",
    "    \n",
    "    for i in range(1,n+1):\n",
    "        for j in range(1,n+1):\n",
    "            if i==j:\n",
    "                aux1 = xk.copy()\n",
    "                aux2 = xk.copy()\n",
    "                aux1[i-1,0] = aux1[i-1,0] + cambio\n",
    "                aux2[i-1,0] = aux2[i-1,0] - cambio\n",
    "                hess[i-1,j-1] = round((func(aux1)-2*func(xk)+func(aux2))/cambio**2,2)\n",
    "            else:\n",
    "                aux1 = xk.copy()\n",
    "                aux2 = xk.copy()\n",
    "                aux3 = xk.copy()\n",
    "                \n",
    "                aux1[i-1,0] = aux1[i-1,0] + cambio\n",
    "                aux1[j-1,0] = aux1[j-1,0] + cambio\n",
    "                \n",
    "                aux2[j-1,0] = aux2[j-1,0] + cambio\n",
    "                \n",
    "                aux3[i-1,0] = aux3[i-1,0] + cambio\n",
    "                \n",
    "                hess[i-1,j-1] = round((func(aux1)-func(aux2)-func(aux3)+func(xk))/cambio**2,2)\n",
    "                \n",
    "    return hess"
   ]
  },
  {
   "cell_type": "code",
   "execution_count": null,
   "metadata": {},
   "outputs": [],
   "source": [
    "class Optimizacion:\n",
    "    \n",
    "    def _init_(self,func,x0):\n",
    "        self.x0 = x0\n",
    "        self.func = func\n",
    "        \n",
    "    \n",
    "    def BFGS(self,xk): # Broyden, Fletcher, Goldfarb, Shanno\n",
    "        \n",
    "        \n",
    "    \n",
    "    def BLN(self): # Búsqueda Lineal de Newton con modificación a la Hessiana\n",
    "        \n",
    "    \n",
    "    def AN(self): # Algoritmo de Newton\n",
    "        \n",
    "        \n",
    "    def BLB(self): # Búsqueda Lineal Base (Sin modificaciones a la Hessiana)"
   ]
  }
 ],
 "metadata": {
  "kernelspec": {
   "display_name": "Python 3",
   "language": "python",
   "name": "python3"
  },
  "language_info": {
   "codemirror_mode": {
    "name": "ipython",
    "version": 3
   },
   "file_extension": ".py",
   "mimetype": "text/x-python",
   "name": "python",
   "nbconvert_exporter": "python",
   "pygments_lexer": "ipython3",
   "version": "3.8.5"
  }
 },
 "nbformat": 4,
 "nbformat_minor": 4
}
