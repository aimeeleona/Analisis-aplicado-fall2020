{
 "cells": [
  {
   "cell_type": "code",
   "execution_count": 2,
   "metadata": {},
   "outputs": [
    {
     "name": "stdout",
     "output_type": "stream",
     "text": [
      "1.19.2\n"
     ]
    }
   ],
   "source": [
    "# Algoritmo de Búsqueda Lineal de Newton con Modificación a la Hessiana.\n",
    "\n",
    "    # Algoritmos 3.1 y 3.2 de Nocedal\n",
    "\n",
    "import numpy as np\n",
    "print(np.__version__)"
   ]
  },
  {
   "cell_type": "code",
   "execution_count": 3,
   "metadata": {},
   "outputs": [],
   "source": [
    "def gradiente(func,xk):\n",
    "    # Código que calcula el gradiente de la función f en el punto xk\n",
    "        # Aquí estamos suponiendo que metemos un xk array y lo convertimos a matriz de nx1\n",
    "    cambio = .000001\n",
    "    n = len(xk)\n",
    "    grad = np.matrix(np.zeros((n,1)))\n",
    "    \n",
    "    for i in range(1,n+1):\n",
    "        aux = xk.copy()\n",
    "        aux[i-1,0] = aux[i-1,0] + cambio\n",
    "        grad[i-1,0] = round((func(aux) - func(xk))/cambio,2)\n",
    "    \n",
    "    return grad"
   ]
  },
  {
   "cell_type": "code",
   "execution_count": 4,
   "metadata": {},
   "outputs": [],
   "source": [
    "def hessiana(func,xk):\n",
    "    # Código que calcula la hessiana de la función f en el punto xk\n",
    "        # Aquí estamos suponiendo que metemos un xk matrix de nx1\n",
    "    cambio = .000001\n",
    "    n = len(xk)\n",
    "    hess = np.matrix(np.zeros((n,n)))\n",
    "    \n",
    "    for i in range(1,n+1):\n",
    "        for j in range(1,n+1):\n",
    "            if i==j:\n",
    "                aux1 = xk.copy()\n",
    "                aux2 = xk.copy()\n",
    "                aux1[i-1,0] = aux1[i-1,0] + cambio\n",
    "                aux2[i-1,0] = aux2[i-1,0] - cambio\n",
    "                hess[i-1,j-1] = round((func(aux1)-2*func(xk)+func(aux2))/cambio**2,2)\n",
    "            else:\n",
    "                aux1 = xk.copy()\n",
    "                aux2 = xk.copy()\n",
    "                aux3 = xk.copy()\n",
    "                \n",
    "                aux1[i-1,0] = aux1[i-1,0] + cambio\n",
    "                aux1[j-1,0] = aux1[j-1,0] + cambio\n",
    "                \n",
    "                aux2[j-1,0] = aux2[j-1,0] + cambio\n",
    "                \n",
    "                aux3[i-1,0] = aux3[i-1,0] + cambio\n",
    "                \n",
    "                hess[i-1,j-1] = round((func(aux1)-func(aux2)-func(aux3)+func(xk))/cambio**2,2)\n",
    "                \n",
    "    return hess"
   ]
  },
  {
   "cell_type": "code",
   "execution_count": 5,
   "metadata": {},
   "outputs": [],
   "source": [
    "# Función de Prueba de los Algoritmos (Rosenbrock)\n",
    "def Rosenbrock(x):\n",
    "    # Aquí suponemos que x ya es una matriz (vector) de nx1\n",
    "    return (1-x[0,0])**2 + 100*(x[1,0]-x[0,0]**2)**2"
   ]
  },
  {
   "cell_type": "code",
   "execution_count": 6,
   "metadata": {},
   "outputs": [],
   "source": [
    "# Algoritmo 3.1: Backtracking Line Search\n",
    "\n",
    "def BLS(func,xk):\n",
    "    a = 1\n",
    "    #Pues es la alpha que corresponde a la dirección de Newton\n",
    "    c = 10**(-4)\n",
    "    pk = -np.linalg.inv(hessiana(func,xk))*gradiente(func,xk)\n",
    "    while func(xk+a*pk) > (func(xk) + c*a*np.transpose(gradiente(func,xk))*pk):\n",
    "        a = .8*a\n",
    "    return a"
   ]
  },
  {
   "cell_type": "code",
   "execution_count": 80,
   "metadata": {},
   "outputs": [],
   "source": [
    "def posdef(func,xk):\n",
    "    eigen = np.linalg.eig(hessiana(func,xk))[0]\n",
    "    if all(eigen > 0):\n",
    "        r = 1 #cumple hessiana positiva definida\n",
    "    else:\n",
    "        r = 0 #no cumple hessiana positiva definida\n",
    "        \n",
    "    return r"
   ]
  },
  {
   "cell_type": "code",
   "execution_count": 59,
   "metadata": {},
   "outputs": [],
   "source": [
    "def menor_eigen(func,xk):\n",
    "    #método que devuelve el menor de los eigenvalores de una matriz multiplicado por -1\n",
    "    eigen = np.linalg.eig(hessiana(func,xk))[0]\n",
    "    n = len(xk)\n",
    "    min = 0\n",
    "    for i in range(1,n+1):\n",
    "        if eigen[i-1] < min:\n",
    "            min = eigen[i-1]\n",
    "    min = -min\n",
    "    return min"
   ]
  },
  {
   "cell_type": "code",
   "execution_count": 88,
   "metadata": {},
   "outputs": [],
   "source": [
    "# Algoritmo 3.2: Line Search Newton with Modification\n",
    "\n",
    "def LSNM(func,x0):\n",
    "    xk =  x0\n",
    "    n = len(xk)\n",
    "    for k in range(1,100):\n",
    "        if posdef(func,xk)==1:\n",
    "            Bk = hessiana(func,xk)\n",
    "            pk = np.linalg.solve(Bk,-gradiente(func,xk)) \n",
    "            xk = xk + BLS(func,xk)*pk\n",
    "        #else:\n",
    "            # Bk = hessiana(func,xk) + menor_eigen(func,xk) * np.identity(n)\n",
    "            # Aquí con la función menor_eigen\n",
    "            # ya estamos considerando el caso en el que la matriz no es definida positiva y le estamos sumando\n",
    "            # la identidad multiplicada por un factor (el negativo del menor de los eigenvalores), de esta forma\n",
    "            # la obligamos a ser positiva definida.\n",
    "            #pk = np.linalg.solve(Bk,-gradiente(func,xk)) \n",
    "            #xk = xk + BLS(func,xk)*pk\n",
    "            \n",
    "    return xk"
   ]
  },
  {
   "cell_type": "code",
   "execution_count": 92,
   "metadata": {},
   "outputs": [
    {
     "data": {
      "text/plain": [
       "matrix([[0.99887989],\n",
       "        [0.99773576]])"
      ]
     },
     "execution_count": 92,
     "metadata": {},
     "output_type": "execute_result"
    }
   ],
   "source": [
    "x0 = np.matrix([[2.0],[1.0]])\n",
    "LSNM(Rosenbrock,x0)"
   ]
  }
 ],
 "metadata": {
  "kernelspec": {
   "display_name": "Python 3",
   "language": "python",
   "name": "python3"
  },
  "language_info": {
   "codemirror_mode": {
    "name": "ipython",
    "version": 3
   },
   "file_extension": ".py",
   "mimetype": "text/x-python",
   "name": "python",
   "nbconvert_exporter": "python",
   "pygments_lexer": "ipython3",
   "version": "3.8.5"
  }
 },
 "nbformat": 4,
 "nbformat_minor": 4
}
